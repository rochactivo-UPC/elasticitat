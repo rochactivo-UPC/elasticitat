{
  "nbformat": 4,
  "nbformat_minor": 0,
  "metadata": {
    "colab": {
      "provenance": [],
      "authorship_tag": "ABX9TyNfDnOrtMYGKENjKkAwOhrj",
      "include_colab_link": true
    },
    "kernelspec": {
      "name": "python3",
      "display_name": "Python 3"
    },
    "language_info": {
      "name": "python"
    }
  },
  "cells": [
    {
      "cell_type": "markdown",
      "metadata": {
        "id": "view-in-github",
        "colab_type": "text"
      },
      "source": [
        "<a href=\"https://colab.research.google.com/github/rochactivo-UPC/elasticitat/blob/main/Ejercicios_Tema_1.ipynb\" target=\"_parent\"><img src=\"https://colab.research.google.com/assets/colab-badge.svg\" alt=\"Open In Colab\"/></a>"
      ]
    },
    {
      "cell_type": "markdown",
      "source": [
        "Solucion de Ejercicios del Tema 1"
      ],
      "metadata": {
        "id": "qkm5oR-PXE_-"
      }
    },
    {
      "cell_type": "markdown",
      "source": [
        "#1) Dados los vectores ***u***, ***v*** y ***w*** realizar las siguientes operaciones:\n",
        "\n",
        "\n",
        "\n"
      ],
      "metadata": {
        "id": "Kp3-b9GkJHmr"
      }
    },
    {
      "cell_type": "code",
      "execution_count": null,
      "metadata": {
        "id": "z0qxex1LJGvQ",
        "colab": {
          "base_uri": "https://localhost:8080/"
        },
        "outputId": "ab8e1022-fbec-423b-8048-89bcc0a44217"
      },
      "outputs": [
        {
          "output_type": "execute_result",
          "data": {
            "text/plain": [
              "{'a': array([[-6, 12, 15],\n",
              "        [-4,  8, 10],\n",
              "        [ 2, -4, -5]]),\n",
              " 'b': array([[-6, -4,  2],\n",
              "        [12,  8, -4],\n",
              "        [15, 10, -5]]),\n",
              " 'c': array([[ 3. ,  0. ,  1.5],\n",
              "        [ 2. ,  0. ,  1. ],\n",
              "        [-1. , -0. , -0.5]]),\n",
              " 'd': array([[-2. ,  4. ,  5. ],\n",
              "        [-0. ,  0. ,  0. ],\n",
              "        [-1. ,  2. ,  2.5]]),\n",
              " 'e': array([ 1.5,  1. , -0.5]),\n",
              " 'f': array([-5. , 10. , 12.5])}"
            ]
          },
          "metadata": {},
          "execution_count": 1
        }
      ],
      "source": [
        "import numpy as np\n",
        "\n",
        "# Definición de los vectores\n",
        "u = np.array([3, 2, -1])\n",
        "v = np.array([-2, 4, 5])\n",
        "w = np.array([1, 0, 0.5])\n",
        "\n",
        "# a) u ⊗ v (Producto tensorial)\n",
        "tensor_uv = np.outer(u, v)\n",
        "\n",
        "# b) v ⊗ u (Producto tensorial)\n",
        "tensor_vu = np.outer(v, u)\n",
        "\n",
        "# c) u ⊗ w (Producto tensorial)\n",
        "tensor_uw = np.outer(u, w)\n",
        "\n",
        "# d) w ⊗ v (Producto tensorial)\n",
        "tensor_wv = np.outer(w, v)\n",
        "\n",
        "# e) (u ⊗ v) ⋅ w (Producto punto entre el producto tensorial y w)\n",
        "dot_uv_w = np.dot(tensor_uv, w)\n",
        "\n",
        "# f) (v ⊗ w) ⋅ u (Producto punto entre el producto tensorial y u)\n",
        "dot_vw_u = np.dot(tensor_vu, w)\n",
        "\n",
        "resultados = {\n",
        "    \"a\": tensor_uv,\n",
        "    \"b\": tensor_vu,\n",
        "    \"c\": tensor_uw,\n",
        "    \"d\": tensor_wv,\n",
        "    \"e\": dot_uv_w,\n",
        "    \"f\": dot_vw_u\n",
        "}\n",
        "\n",
        "resultados"
      ]
    },
    {
      "cell_type": "markdown",
      "source": [
        "#3  Dados los tensores de segundo orden A, B y C realizar las siguientes operaciones:\n"
      ],
      "metadata": {
        "id": "WdbHnAQyL5k0"
      }
    },
    {
      "cell_type": "code",
      "source": [
        "# Definición de los tensores de segundo orden A, B y C como matrices\n",
        "A = np.array([[3, 0, 0],\n",
        "              [0, 2, -1],\n",
        "              [0, 0, 5]])\n",
        "\n",
        "B = np.array([[0, 0, 4],\n",
        "              [0, 6, 0],\n",
        "              [0, -3, 1]])\n",
        "\n",
        "C = np.array([[1, -2, 0],\n",
        "              [0, 0, 4],\n",
        "              [0, -6, 0]])\n",
        "\n",
        "# a) A ⋅ B (Producto de matrices)\n",
        "product_AB = np.dot(A, B)\n",
        "\n",
        "# b) B ⋅ A (Producto de matrices)\n",
        "product_BA = np.dot(B, A)\n",
        "\n",
        "# c) A ⋅ C (Producto de matrices)\n",
        "product_AC = np.dot(A, C)\n",
        "\n",
        "# d) (A ⋅ B) ⋅ C (Producto de matrices)\n",
        "product_ABC = np.dot(product_AB, C)\n",
        "\n",
        "resultados_tensors = {\n",
        "    \"a\": product_AB,\n",
        "    \"b\": product_BA,\n",
        "    \"c\": product_AC,\n",
        "    \"d\": product_ABC\n",
        "}\n",
        "\n",
        "resultados_tensors"
      ],
      "metadata": {
        "id": "Ue9Xf1D5L547",
        "colab": {
          "base_uri": "https://localhost:8080/"
        },
        "outputId": "b964db1a-0f49-4a78-efa0-26d5f242c7d9"
      },
      "execution_count": null,
      "outputs": [
        {
          "output_type": "execute_result",
          "data": {
            "text/plain": [
              "{'a': array([[  0,   0,  12],\n",
              "        [  0,  15,  -1],\n",
              "        [  0, -15,   5]]),\n",
              " 'b': array([[ 0,  0, 20],\n",
              "        [ 0, 12, -6],\n",
              "        [ 0, -6,  8]]),\n",
              " 'c': array([[  3,  -6,   0],\n",
              "        [  0,   6,   8],\n",
              "        [  0, -30,   0]]),\n",
              " 'd': array([[  0, -72,   0],\n",
              "        [  0,   6,  60],\n",
              "        [  0, -30, -60]])}"
            ]
          },
          "metadata": {},
          "execution_count": 5
        }
      ]
    },
    {
      "cell_type": "code",
      "source": [
        "# Re-defining the tensors (matrices) A, B, C, and vectors v and w\n",
        "\n",
        "# Vectors v and w\n",
        "v = np.array([2, -3, 4])\n",
        "w = np.array([4, 5, -1])\n",
        "\n",
        "# a) (B ⋅ C) ⋅ v\n",
        "product_BC_v = np.dot(np.dot(B, C), v)\n",
        "\n",
        "# b) (A ⋅ C) ⋅ w\n",
        "product_AC_w = np.dot(np.dot(A, C), w)\n",
        "\n",
        "# For double product or double contraction, we perform tensor dot which calculates the sum over all the dimensions of the product.\n",
        "# In matrix terms, it's equivalent to the sum of the product of corresponding elements.\n",
        "\n",
        "# c) A:B (Double product or contraction)\n",
        "double_product_AB = np.tensordot(A, B, axes=2)\n",
        "\n",
        "# d) B:A (Double product or contraction)\n",
        "double_product_BA = np.tensordot(B, A, axes=2)\n",
        "\n",
        "resultados_nuevos = {\n",
        "    \"a\": product_BC_v,\n",
        "    \"b\": product_AC_w,\n",
        "    \"c\": double_product_AB,\n",
        "    \"d\": double_product_BA\n",
        "}\n",
        "\n",
        "resultados_nuevos"
      ],
      "metadata": {
        "colab": {
          "base_uri": "https://localhost:8080/"
        },
        "id": "T_Sok2fSR6J5",
        "outputId": "dff90f8a-8a8b-47a7-f93f-4f3199b5c91f"
      },
      "execution_count": null,
      "outputs": [
        {
          "output_type": "execute_result",
          "data": {
            "text/plain": [
              "{'a': array([ 72,  96, -30]),\n",
              " 'b': array([ -18,   22, -150]),\n",
              " 'c': array(17),\n",
              " 'd': array(17)}"
            ]
          },
          "metadata": {},
          "execution_count": 5
        }
      ]
    },
    {
      "cell_type": "markdown",
      "source": [
        "Definición de una funcion para multiplicacion de tensores con notación indicial"
      ],
      "metadata": {
        "id": "Su3WLLH8mpco"
      }
    },
    {
      "cell_type": "code",
      "source": [
        "def matrix_product(V, B):\n",
        "\n",
        "    m, n_V = V.shape\n",
        "    n_B, p = B.shape\n",
        "    if n_V != n_B:\n",
        "        raise ValueError(\"El número de columnas de V debe de ser igual al número de filas de B\")\n",
        "\n",
        "    # Initialize the result matrix with zeros\n",
        "    result = np.zeros((m, p))\n",
        "\n",
        "    # Calculate the matrix product using nested for loops\n",
        "    for i in range(m):\n",
        "        for j in range(p):\n",
        "            for k in range(n_V):\n",
        "                result[i][j] += V[i][k] * B[k][j]\n",
        "\n",
        "    return result"
      ],
      "metadata": {
        "id": "Z-EG1FuEB0ae"
      },
      "execution_count": null,
      "outputs": []
    },
    {
      "cell_type": "markdown",
      "source": [
        "Comprobación de la función"
      ],
      "metadata": {
        "id": "MSlVy1Dnmw_4"
      }
    },
    {
      "cell_type": "code",
      "source": [
        "product_AB = np.dot(A, B)\n",
        "print(product_AB)"
      ],
      "metadata": {
        "colab": {
          "base_uri": "https://localhost:8080/"
        },
        "id": "dOeuyIH1Xebx",
        "outputId": "a846a626-b890-4d40-f28c-6543e01ce6f0"
      },
      "execution_count": null,
      "outputs": [
        {
          "output_type": "stream",
          "name": "stdout",
          "text": [
            "[[  0   0  12]\n",
            " [  0  15  -1]\n",
            " [  0 -15   5]]\n"
          ]
        }
      ]
    },
    {
      "cell_type": "code",
      "source": [
        "product_AB_1 = matrix_product(A, B)\n",
        "print(product_AB_1)"
      ],
      "metadata": {
        "colab": {
          "base_uri": "https://localhost:8080/"
        },
        "id": "gDQogrC7hCpJ",
        "outputId": "a56c3ea0-6393-434f-e849-03047d41fc76"
      },
      "execution_count": null,
      "outputs": [
        {
          "output_type": "stream",
          "name": "stdout",
          "text": [
            "[[  0.   0.  12.]\n",
            " [  0.  15.  -1.]\n",
            " [  0. -15.   5.]]\n"
          ]
        }
      ]
    }
  ]
}